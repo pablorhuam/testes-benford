{
 "cells": [
  {
   "cell_type": "code",
   "execution_count": 17,
   "metadata": {
    "collapsed": false
   },
   "outputs": [],
   "source": [
    "import math\n",
    "import csv\n",
    "\n",
    "\n",
    "def benford_primeiro_digito():\n",
    "    numeros = []\n",
    "    \n",
    "    for i in range(1, 10):\n",
    "        porcentagem = math.log10(1.0+ (1.0/float(i)))\n",
    "        numeros.append(porcentagem)\n",
    "    return numeros"
   ]
  },
  {
   "cell_type": "code",
   "execution_count": 18,
   "metadata": {
    "collapsed": true
   },
   "outputs": [],
   "source": [
    "#extrai os números de um arquivo .txt\n",
    "def extrair_numeros(nome_arquivo):\n",
    "    \n",
    "    with open(nome_arquivo) as f:\n",
    "        content = f.readlines()\n",
    "        # removo as quebras de linha\n",
    "        content = [x.strip() for x in content] \n",
    "        return content"
   ]
  },
  {
   "cell_type": "code",
   "execution_count": 19,
   "metadata": {
    "collapsed": false
   },
   "outputs": [],
   "source": [
    "valores = extrair_numeros('data/numeros.txt')"
   ]
  },
  {
   "cell_type": "code",
   "execution_count": 20,
   "metadata": {
    "collapsed": false
   },
   "outputs": [],
   "source": [
    "#variavel que irá guardar as somas de cada primeiro digito\n",
    "mapeamento_somas = {\n",
    "    '1': 0,\n",
    "    '2': 0,\n",
    "    '3': 0,\n",
    "    '4': 0,\n",
    "    '5': 0,\n",
    "    '6': 0,\n",
    "    '7': 0,\n",
    "    '8': 0,\n",
    "    '9': 0\n",
    "}\n",
    "\n",
    "#quantidade total de valores que serão contados\n",
    "qtd_numeros = len(valores)\n",
    "\n",
    "for i in range(qtd_numeros):\n",
    "    val = valores[i]\n",
    "    primeiro_digito = val[0]\n",
    "    if primeiro_digito in mapeamento_somas:\n",
    "        mapeamento_somas[primeiro_digito] += 1\n",
    "\n"
   ]
  },
  {
   "cell_type": "code",
   "execution_count": 23,
   "metadata": {
    "collapsed": true
   },
   "outputs": [],
   "source": [
    "numeros_benford = benford_primeiro_digito()"
   ]
  },
  {
   "cell_type": "code",
   "execution_count": 24,
   "metadata": {
    "collapsed": false
   },
   "outputs": [
    {
     "name": "stdout",
     "output_type": "stream",
     "text": [
      "Digito\t\tQtd Nº\t\t% Nº\t\t% Benford\n",
      "1\t\t11298\t\t0.2824\t\t0.301\n",
      "2\t\t7003\t\t0.1751\t\t0.1761\n",
      "3\t\t5597\t\t0.1399\t\t0.1249\n",
      "4\t\t4299\t\t0.1075\t\t0.0969\n",
      "5\t\t3394\t\t0.0848\t\t0.0792\n",
      "6\t\t2717\t\t0.0679\t\t0.0669\n",
      "7\t\t2101\t\t0.0525\t\t0.058\n",
      "8\t\t1789\t\t0.0447\t\t0.0512\n",
      "9\t\t1802\t\t0.045\t\t0.0458\n"
     ]
    }
   ],
   "source": [
    "resultado = []\n",
    "\n",
    "\n",
    "print(\"\\t\\t\".join([\"Digito\", \"Qtd Nº\", \"% Nº\", \"% Benford\"]))\n",
    "for key in mapeamento_somas:\n",
    "    \n",
    "    precisao = 4\n",
    "    \n",
    "    primeiro_digito = key\n",
    "    qtd_nums_primeiro_digito = round(mapeamento_somas[primeiro_digito], precisao)\n",
    "    porcentagem_val =  round(qtd_nums_primeiro_digito / qtd_numeros,precisao)\n",
    "    porcentagem_benford =  round(numeros_benford[int(primeiro_digito) - 1],precisao)\n",
    "    \n",
    "    linha = [\n",
    "        #primeiro digito\n",
    "        str(key),\n",
    "        #quantidade de números com primeiro digito\n",
    "        str(qtd_nums_primeiro_digito),\n",
    "        #% do primeiro digito\n",
    "        str(porcentagem_val),\n",
    "        #% Benford\n",
    "        str(porcentagem_benford)\n",
    "    ]\n",
    "    \n",
    "    print(\"\\t\\t\".join(linha))"
   ]
  },
  {
   "cell_type": "code",
   "execution_count": null,
   "metadata": {
    "collapsed": true
   },
   "outputs": [],
   "source": []
  }
 ],
 "metadata": {
  "kernelspec": {
   "display_name": "Python 3",
   "language": "python",
   "name": "python3"
  },
  "language_info": {
   "codemirror_mode": {
    "name": "ipython",
    "version": 3
   },
   "file_extension": ".py",
   "mimetype": "text/x-python",
   "name": "python",
   "nbconvert_exporter": "python",
   "pygments_lexer": "ipython3",
   "version": "3.6.0"
  }
 },
 "nbformat": 4,
 "nbformat_minor": 2
}
